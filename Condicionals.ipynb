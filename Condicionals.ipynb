{
 "cells": [
  {
   "cell_type": "markdown",
   "metadata": {},
   "source": [
    "# Condicionals"
   ]
  },
  {
   "cell_type": "markdown",
   "metadata": {},
   "source": [
    "Les comandes bàsiques de condició són: == (igualtat), != (desigualtat), <, >, <= (més petit o igual), >= (més gran o igual)"
   ]
  },
  {
   "cell_type": "code",
   "execution_count": 5,
   "metadata": {},
   "outputs": [],
   "source": [
    "a=5\n",
    "b=6"
   ]
  },
  {
   "cell_type": "code",
   "execution_count": 6,
   "metadata": {},
   "outputs": [
    {
     "name": "stdout",
     "output_type": "stream",
     "text": [
      "b + gran a\n",
      "b - petit a\n"
     ]
    }
   ],
   "source": [
    "if a<b:\n",
    "    print(\"b + gran a\")\n",
    "    \n",
    "if a==b:\n",
    "    print (\"iguals\")\n",
    "else:\n",
    "    print(\"b - petit a\")"
   ]
  },
  {
   "cell_type": "markdown",
   "metadata": {},
   "source": [
    "S'ha d'anar amb molt de compte amb els \"if blocks\". Cada cop que fem servir un \"if\" s'obre un nou block i, per tant, l' \"else\" fa referència a l'ultim \"if\" obert!!! Per tal d'introduïr multiples condicions dins d'un \"if block\" s'ha d'emprar la comanda \"elif\"."
   ]
  },
  {
   "cell_type": "code",
   "execution_count": 7,
   "metadata": {},
   "outputs": [
    {
     "name": "stdout",
     "output_type": "stream",
     "text": [
      "b + gran a\n"
     ]
    }
   ],
   "source": [
    "if a<b:\n",
    "    print(\"b + gran a\")\n",
    "elif a==b:\n",
    "    print (\"iguals\")\n",
    "else:\n",
    "    print(\"b - petit a\")"
   ]
  },
  {
   "cell_type": "markdown",
   "metadata": {},
   "source": [
    "Una petita implementació: Determinar a quina lletra correspon la teva nota numèrica"
   ]
  },
  {
   "cell_type": "code",
   "execution_count": 26,
   "metadata": {},
   "outputs": [],
   "source": [
    "def NotaLletra(nota):\n",
    "    if nota >= 9:\n",
    "        lletra = \"A\"\n",
    "    else:   # nota ha de ser B, C o D\n",
    "        if nota >= 7.5:\n",
    "            lletra = \"B\"\n",
    "        else:  # nota ha de ser C o D \n",
    "            if nota >= 5:\n",
    "                lletra = 'C'\n",
    "            else:    # només pot ser D\n",
    "                lletra='D'\n",
    "                \n",
    "    return lletra"
   ]
  },
  {
   "cell_type": "code",
   "execution_count": 32,
   "metadata": {},
   "outputs": [
    {
     "data": {
      "text/plain": [
       "'C'"
      ]
     },
     "execution_count": 32,
     "metadata": {},
     "output_type": "execute_result"
    }
   ],
   "source": [
    "NotaLletra(7.25)"
   ]
  }
 ],
 "metadata": {
  "kernelspec": {
   "display_name": "Python 3",
   "language": "python",
   "name": "python3"
  },
  "language_info": {
   "codemirror_mode": {
    "name": "ipython",
    "version": 3
   },
   "file_extension": ".py",
   "mimetype": "text/x-python",
   "name": "python",
   "nbconvert_exporter": "python",
   "pygments_lexer": "ipython3",
   "version": "3.7.0"
  }
 },
 "nbformat": 4,
 "nbformat_minor": 2
}
