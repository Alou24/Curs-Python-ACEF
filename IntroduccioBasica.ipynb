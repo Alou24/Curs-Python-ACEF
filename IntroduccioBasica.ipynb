{
 "cells": [
  {
   "cell_type": "markdown",
   "metadata": {
    "node_exists": false,
    "node_name": "869eae3296cd42f6b75b14930c1dcf55"
   },
   "source": [
    "# Introducció a Python per a físics\n",
    "\n",
    "Python és un llenguatge de programació. Com a tal, és una manera de dir-li a un ordinador el que els volem que ens faci.\n",
    "\n",
    "En concret, Python ens és molt útil degut a que és molt fàcil d'aprendre i a la gran quantitat de paquets científics accessibles.\n",
    "\n",
    "\n",
    "## On usar Python?\n",
    "\n",
    "Aquest text (amb codi) està implementat a Jupyter Notebook, que té uns avantages clars a l'hora d'explicar codi. El que recomano jo és utilitzar Anaconda, dins el qual tindrem Spyder. Un cop instal·lat, fer el nostre primer programa ens serà molt fàcil."
   ]
  },
  {
   "cell_type": "code",
   "execution_count": 1,
   "metadata": {
    "node_exists": true,
    "node_name": "4a3899c67fef46cb8164c545e71cddec"
   },
   "outputs": [],
   "source": [
    "#Com aquesta línia de codi ve després del símbol aquest, \n",
    "#és invisible per Python, \n",
    "#però serveixen per explicar cosetes sobre el codi!!"
   ]
  },
  {
   "cell_type": "markdown",
   "metadata": {},
   "source": [
    "El \"programa\" d'abans ens és òbviament inútil. Perquè un programa ens sigui útil cal que nosaltres hi aportem dades, el programa les treballi, i surtin dades. \n",
    "\n",
    "\n",
    "\n",
    "La manera d'aportar dades és definint variables. Les variables són els \"bichitos\" de la programació. Tenim quatre tipus de variables:\n",
    "\n",
    "- int (enters): -2, -1, 0, 1, 2, ...\n",
    "\n",
    "- float (racionals): 2.3, 5.43245, 3.14159265, ...\n",
    "\n",
    "- string (frases): \"Això és una frase\", \"Això també\", ...\n",
    "\n",
    "- boolean: True, False\n",
    "\n",
    "\n",
    "\n",
    "La manera de definir variables a Python és molt simple, i no cal indicar el tipus de variable que volem, sinó que basta amb definir-ho directament. Per fer-ho, cal \"batejar\" a les variables (donar-lis un nom) i donar-lis un valor concret"
   ]
  },
  {
   "cell_type": "code",
   "execution_count": 2,
   "metadata": {
    "node_exists": true,
    "node_name": "e85e8b00a32f4686a1f495fd173b0670"
   },
   "outputs": [],
   "source": [
    "variable1 = 2\n",
    "\n",
    "variable2 = 2.0\n",
    "\n",
    "a = \"a\"\n",
    "\n",
    "b = True"
   ]
  },
  {
   "cell_type": "markdown",
   "metadata": {},
   "source": [
    "Normalment les variables string i boolean no les definirem d'aquesta manera, sinó que ho farem d'una forma algo més sutil. Treballarem bàsicament amb variables del tipus **int** i **float**, que són variables numèriques.\n",
    "\n",
    "És important veure que **variable1** i **variable2** no ténen el mateix valor, ja que una conté un enter (int) i l'altra un float. A més, la definició de la variable **a** és interessant, ja que **a** és una variable que conté la frase **\"a\"**, no volent dir **a** el mateix abans i després de la desigualtat.\n",
    "\n",
    "> PD: Cal tenir cura amb les majúscules! Python és com les contrasenyes, no és el mateix *variable1* que *Variable1* ni que *VARIABLE1*"
   ]
  },
  {
   "cell_type": "markdown",
   "metadata": {},
   "source": [
    "Però el \"programa\" anterior tampoc ens és útil i, de fet, al utilitzar-ho no obtenim res. Necessitem que el programa ens demani algo (això ja ho hem fet, donant arbitràriament un valor a les variables), però també ens cal que ens torni algo. \n",
    "\n",
    "Això ho podem fer amb el comand **print()**. Si fiquem algo dins el parèntesi, el programa ho imprimirà en pantalla."
   ]
  },
  {
   "cell_type": "code",
   "execution_count": 3,
   "metadata": {},
   "outputs": [
    {
     "name": "stdout",
     "output_type": "stream",
     "text": [
      "5\n",
      "4.345\n"
     ]
    }
   ],
   "source": [
    "var = 5\n",
    "print(var)\n",
    "\n",
    "print(4.345)"
   ]
  },
  {
   "cell_type": "markdown",
   "metadata": {},
   "source": [
    "Cal, òbviament, definir la variable abans d'imprimir-la!"
   ]
  },
  {
   "cell_type": "code",
   "execution_count": 4,
   "metadata": {},
   "outputs": [
    {
     "ename": "NameError",
     "evalue": "name 'variable' is not defined",
     "output_type": "error",
     "traceback": [
      "\u001b[1;31m---------------------------------------------------------------------------\u001b[0m",
      "\u001b[1;31mNameError\u001b[0m                                 Traceback (most recent call last)",
      "\u001b[1;32m<ipython-input-4-4c0cb9c2c7d9>\u001b[0m in \u001b[0;36m<module>\u001b[1;34m()\u001b[0m\n\u001b[1;32m----> 1\u001b[1;33m \u001b[0mprint\u001b[0m \u001b[1;33m(\u001b[0m \u001b[0mvariable\u001b[0m \u001b[1;33m)\u001b[0m\u001b[1;33m\u001b[0m\u001b[0m\n\u001b[0m\u001b[0;32m      2\u001b[0m \u001b[1;33m\u001b[0m\u001b[0m\n\u001b[0;32m      3\u001b[0m \u001b[0mvariable\u001b[0m\u001b[1;33m=\u001b[0m\u001b[1;36m3\u001b[0m\u001b[1;33m\u001b[0m\u001b[0m\n",
      "\u001b[1;31mNameError\u001b[0m: name 'variable' is not defined"
     ]
    }
   ],
   "source": [
    "print ( variable )\n",
    "\n",
    "variable=3"
   ]
  },
  {
   "cell_type": "markdown",
   "metadata": {},
   "source": [
    "Ara podem fer un programa simple que ens imprimeixi en pantalla el tipus de variable que tenim. Això ho fem servint el comand **type()**"
   ]
  },
  {
   "cell_type": "code",
   "execution_count": 5,
   "metadata": {},
   "outputs": [
    {
     "name": "stdout",
     "output_type": "stream",
     "text": [
      "<class 'float'>\n",
      "<class 'int'>\n"
     ]
    }
   ],
   "source": [
    "a = 5.4\n",
    "\n",
    "b = 6\n",
    "\n",
    "tipusa = type(a)\n",
    "\n",
    "print(tipusa)\n",
    "\n",
    "print(type(b))"
   ]
  },
  {
   "cell_type": "markdown",
   "metadata": {},
   "source": [
    "Ja sabem com donar-li dades a un programa i com fer que ens torni algo. Ara cal ensenyar-li a que treballi les dades per nosaltres. Amb dades numèriques, podem utilitzar l'operació sumar $+$, restar $-$, multiplicar $*$, dividir $/$ i la potència $**$"
   ]
  },
  {
   "cell_type": "code",
   "execution_count": 6,
   "metadata": {},
   "outputs": [
    {
     "name": "stdout",
     "output_type": "stream",
     "text": [
      "6.3\n",
      "6.3\n"
     ]
    }
   ],
   "source": [
    "a = 2\n",
    "\n",
    "b = 4.3\n",
    "\n",
    "c = a+b\n",
    "\n",
    "print(c) \n",
    "\n",
    "\"També podríem fer-ho de la següent manera!\"\n",
    "\n",
    "print(a+b)"
   ]
  },
  {
   "cell_type": "markdown",
   "metadata": {},
   "source": [
    "Una altra operació molt interesant és la del residu, que s'escriu com %. Aquesta operació el que fa és retornar-nos el residu d'una divisió. Per exemple, $7%2$ és 1"
   ]
  },
  {
   "cell_type": "code",
   "execution_count": 7,
   "metadata": {},
   "outputs": [
    {
     "name": "stdout",
     "output_type": "stream",
     "text": [
      "1\n"
     ]
    }
   ],
   "source": [
    "print(7%2)"
   ]
  },
  {
   "cell_type": "markdown",
   "metadata": {},
   "source": [
    "Per tenir un codi més net és interessant utilitzar les funcions. Per definir una funció hem de fer el següent:"
   ]
  },
  {
   "cell_type": "code",
   "execution_count": 8,
   "metadata": {},
   "outputs": [],
   "source": [
    "def funcio(variable1, variable2):\n",
    "    \n",
    "    c = variable1 + variable2\n",
    "    \n",
    "    return c"
   ]
  },
  {
   "cell_type": "markdown",
   "metadata": {},
   "source": [
    "Ara podem utilitzar fàcilent la funció anterior"
   ]
  },
  {
   "cell_type": "code",
   "execution_count": 9,
   "metadata": {},
   "outputs": [
    {
     "name": "stdout",
     "output_type": "stream",
     "text": [
      "11\n"
     ]
    }
   ],
   "source": [
    "a = 5\n",
    "b = 6\n",
    "\n",
    "suma = funcio(a,b)\n",
    "\n",
    "print(suma)"
   ]
  },
  {
   "cell_type": "code",
   "execution_count": null,
   "metadata": {},
   "outputs": [],
   "source": []
  }
 ],
 "metadata": {
  "kernelspec": {
   "display_name": "Python 3",
   "language": "python",
   "name": "python3"
  },
  "language_info": {
   "codemirror_mode": {
    "name": "ipython",
    "version": 3
   },
   "file_extension": ".py",
   "mimetype": "text/x-python",
   "name": "python",
   "nbconvert_exporter": "python",
   "pygments_lexer": "ipython3",
   "version": "3.6.5"
  }
 },
 "nbformat": 4,
 "nbformat_minor": 2
}
