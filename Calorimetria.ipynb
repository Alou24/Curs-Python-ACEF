{
  "nbformat": 4,
  "nbformat_minor": 0,
  "metadata": {
    "colab": {
      "name": "Calorimetria.ipynb",
      "version": "0.3.2",
      "provenance": [],
      "toc_visible": true,
      "include_colab_link": true
    },
    "kernelspec": {
      "name": "python3",
      "display_name": "Python 3"
    }
  },
  "cells": [
    {
      "cell_type": "markdown",
      "metadata": {
        "id": "view-in-github",
        "colab_type": "text"
      },
      "source": [
        "<a href=\"https://colab.research.google.com/github/CursPythonUAB/Curs-Python-ACEF/blob/master/Calorimetria.ipynb\" target=\"_parent\"><img src=\"https://colab.research.google.com/assets/colab-badge.svg\" alt=\"Open In Colab\"/></a>"
      ]
    },
    {
      "metadata": {
        "id": "Om5nzqbJ-suR",
        "colab_type": "text"
      },
      "cell_type": "markdown",
      "source": [
        "# Introducció\n",
        "En aquesta primera pràctica us demanem que resoleu la pràctica del laboratori de termodinàmica anomenada Calorimetria. En els següents apartats us presentarem les equacions i els passos que heu d'anar seguint i els resultats que heu d'obtenir. Tot el material teòric ha sigut extret del guió de la pràctica corresponent i les dades experimentals han sigut obtingudes en el laboratori en el transcurs del passat semestre. Aquest guió de programació ha estat redactat per Jordi Ferré.\n",
        "\n",
        "# Context teòric i experimental\n",
        "\n",
        "La calor específica d'una substància es defineix com l'energia en forma de calor que ha de rebre una unitat de massa de la substància per elevar un grau la seva temperatura.\n",
        "Per tal d'obtenir les calors específiques de diferents substàncies s'utilitzen els anomenats mètodes calorimètrics. Aquests consisteixen a mesurar variacions de temperatura de la substància dins d'un calorímetre. \n",
        "\n",
        "Un calorímetre és un aparell que consisteix en un recipient aillat tèrmicament, proveït d'un\n",
        "termòmetre o termoparell i d'un agitador, el qual s'omple amb una quantitat determinada de \n",
        "fluid.\n",
        "Amb un calorímetre es pot mesurar la quantitat d'energia en forma de calor emesa o absorbida per una substància en un procés físic o químic.\n",
        "\n",
        "L'equació de balanç entre la calor absorbida i la cedida ve donada per\n",
        "\n",
        "$$Q_{cedit} = Q_{absorbit} = m_Lc_L(T_f − T_0) +m_Cc_C(T_f − T_0) $$\n",
        "\n",
        "On $m_L$ és la massa del fluid, $c_L$ la calor específica del fluid, $T_0$ i $T_f$ les temperatures inicials i finals i les quantitats $X_C$ corresponen al calorímetre.\n",
        "L'equivalent en aigua d'un calorímetre ($K$) és el producte $m_Cc_C$. Aquesta quantitat representa les pèrdues d'energia del calorímetre si aquest es considerés com una massa d'aigua.\n",
        "\n",
        "Les pèrdues d'energia en aquest tipus d'experimentació són bàsicament degudes a convecció, la llei de refredament de Newton expressa aquest efecte.\n",
        "\n",
        "$$\\frac{dQ}{dt}=−\\lambda A(T − Ta)$$\n",
        "On $\\lambda$ es el coeficient de pèrdues laterals, A l'àrea de contacte entre el cos i el \n",
        "fluid, $T$ és la temperatura del cos, $T_a$ és la temperatura de l'ambient i per tant\n",
        "$\\frac{dQ}{dt}$ representa la velocitat de transferència d'energia\n",
        "en forma de calor del sistema a l'entorn.\n",
        "\n",
        "Amb aquesta equació podem obtenir el temps ($dt$) en el que un cos ha dissipat una quantitat de calor ($dQ$) i per tant la seva temperatura s'ha modificat en $dT$. L'equació queda com:\n",
        "\n",
        "$$−\\frac{dT}{dt}= h(T − Ta)$$\n",
        "\n",
        "Aquesta equació s'obté considerant l'equació 1 en forma diferencial.\n",
        "\n",
        "S'ha definit h com:\n",
        "$$ h = \\frac{A}{m_Lc_L +K}$$\n",
        "\n",
        "# Metodologia experimental\n",
        "\n",
        "Experimentalment hem usat el mètode de la corba de refredament, per tal d'obtenir la calor específica d'un líquid prova. Aquest mètode consisteix a obtenir les corbes de refredament d'un total de tres líquids, dos dels quals en coneixem la seva calor específica i un tercer anomenat líquid prova del qual en volem obtenir aquesta magnitud.\n",
        "\n",
        "Les dades obtingudes en el laboratori corresponen a la temperatura de cada líquid en diferents instants de temps (el temps és la primera columna i la temperatura la segona) i són presentades en els diferents blocs de notes que se us han proporcionat juntament amb aquest guió.\n",
        "\n",
        "Integrant l'equació 3 obtenim la següent expressió:\n",
        "\n",
        "$$ln(T − T_a) = −ht + ln(T_0 − T_a)$$\n",
        "\n",
        "Així doncs, podem fer una regressió lineal per trobar $h$ en cada cas.\n",
        "\n",
        "# Obtenció de l'equivalent en aigua del calorímetre, les pèrdues laterals i la calor específica d'un líquid desconegut\n",
        "\n",
        "A continuació obtindrem les diferents magnituds fent-nos la vida més fàcil gràcies a la programació.\n",
        "\n",
        "En la següent taula us deixo els valors de totes les magnituds mesurades en el laboratori que són necessàries en el transcurs de l'obtenció dels resultats.\n",
        "\n",
        "* Area:  0,011764706 m$^2$\n",
        "* Massa aigua: 0,2514 g\n",
        "* Massa xilè: 0,2056 g\n",
        "* Massa líquid prova: 0,2229 g\n",
        "* Calor específica aigua: 4181,3 J/kg·K\n",
        "* Calor específica xilè: 1737,942728 J/kg·K\n",
        "* Temperatura ambient: 295,2 K\n",
        "\n",
        "Abans de començar us deixem uns consells personals per no topar-vos amb massa errors comuns:\n",
        "\n",
        "* És aconsellable en certs passos iteratius fer prints de les dades que es van obtenint, d'aquesta manera si us trobeu un error, sabreu en quin pas heu d'anar a mirar. D'igual manera en codis extremadament llargs que us podeu trobar en el futur, és aconsellable fer prints de tant en tant per comprovar que tot va com hauria d'anar.\n",
        "* Si una variable no us dóna el número que voleu, mireu bé quin tipus de variable està definint\n",
        "Python i si podeu definir-la de manera correcta a mà.\n",
        "* Un altre error comú són les iteracions amb IndexError. Si elimineu algun element de la llista en la iteració, heu de corregir la llargada de la llista restant un factor auxiliar, per exemple. Tingueu en compte que la iteració començaa en el 0.\n",
        "* En el cas de la sobrecàrrega de la memòria o codis en els quals unes dades tarden temps grans en produir-se, i després les heu d'utilitzar diversos cops, és aconsellable guardar les dades en fitxers externs i eliminar-les del programa, de manera que només quan sigui necessari es cridin.\n",
        "* Si us trobeu amb algun error el qual no sabeu resoldre per vosaltres mateixos és molt convenient que el busqueu a google, però heu de ser escèptics amb les respostes que trobeu, ja que en molts casos les solucions que trobareu no són molt òptimes. Un bon foro on trobar respostes és \"stackoverflow\", en cas de buscar dubtes sobre paquets (els donareu a la tercera sessió) el més aconsellable és buscar primer a scipy.org. Allà trobareu les definicions de cada mètode dels paquets i podreu entendre què és el que realment fan. Us aconsello que, si teniu temps, mireu alguns dels mètodes més usats, sobretot un cop hageu cursat Mètodes Numèrics II. També cada paquet en general té una web pròpia, allà és on us heu de dirigir en casos excepcionals. Ser autodidacta és una virtut!"
      ]
    },
    {
      "metadata": {
        "id": "fSI43mhkcuT4",
        "colab_type": "text"
      },
      "cell_type": "markdown",
      "source": [
        "\n",
        "Per obtenir els resultats cal que seguiu els següents passos. Cal dir que podria haver maneres més optimes de fer alguns passos o el conjunt dels passos, si se us acut alguna, us convidem a intentar-la un cop finalitzada la pràctica i deixar-la comentada en el codi. Per comentar diverses línies de codi alhora recordeu l'accés ràpid ctrl+1 o els \"\"\". Cal també que tots els passos que feu estiguin comentats en el codi, de manera que expliqueu de manera molt resumida que feu en cada línia o iteració. Per últim us convidem a compartir el codi amb els companys i comentar possibles millores, optimitzacions o maneres d'obtenir els paràmetres utilitzant menys memòria o temps, un cop acabada la pràctica i/o el curs.\n",
        "\n",
        "1- En primer lloc heu d'importar els paquets necessaris per la pràctica. En aquest cas, només seran necessaris el 'numpy' i el 'math'.\n",
        "\n",
        "Per a importar un paquet (per exemple, math) recordeu que s'ha d'escriure:\n",
        "```\n",
        "import math as mt\n",
        "```\n",
        "El 'as' i una abreviatura s'utilitza per cridar el paquet quan calgui sense escriure el nom sencer.\n",
        "\n",
        "A part, definirem les constants de la pràctica, recordeu que és tan simple com:\n",
        "```\n",
        "Variable = Valor numèric\n",
        "```\n",
        "\n",
        "\n"
      ]
    },
    {
      "metadata": {
        "id": "rUBPth-rgVih",
        "colab_type": "code",
        "colab": {}
      },
      "cell_type": "code",
      "source": [
        "#Importeu els paquets numpy com np i math com mt\n",
        "\n",
        "\n",
        "#Definiu els valors de les constants de la pràctica\n"
      ],
      "execution_count": 0,
      "outputs": []
    },
    {
      "metadata": {
        "id": "kYSnLP3ekGtg",
        "colab_type": "text"
      },
      "cell_type": "markdown",
      "source": [
        "2- Ara, heu d'importar les dades dels blocs de notes i igualar els temps inicials, és a dir el temps t=0 de cada líquid ha de ser el mateix o el més proper possible. Per fer això podeu prendre un\n",
        "interval $\\epsilon$ i fer-lo petit fins a ser aquest mínim. Les dades que us proporcionem han estat desplaçades de manera que en el temps inicials els tres líquids tinguin la mateixa temperatura inicial. L'objectiu d'aquest punt és fer unes línies de codi per veure si el temps inicial dels tres líquids és semblant. Per importar un txt amb columnes de dades:\n",
        "\n",
        "````\n",
        "dades=open(\"fitxer.txt\",\"r\")\n",
        "````\n",
        "On hem ficat 'dades', però podem assignar-li el nom que volguem. Una vegada obert s'ha de separar en linies\n",
        "```\n",
        "lins=dades.readlines()\n",
        "```\n",
        "I crear dos llistes buides on ficarem el temps (t) i la temperatura (T)\n",
        "```\n",
        "llistat=[]\n",
        "llistaT=[]\n",
        "```\n",
        "Cada línia que hem separat  l'hem de separar en la columna de temps i la columna de temperatura, per semparar les dues columnes utilitzarem el comando ```split()```, i per anar afegint cada element a les noves llistes que hem definit abans, el comando ```append()```.\n",
        "\n",
        "```\n",
        "for lin in lins:\n",
        "    a=lin.split()\n",
        "    llistat.append(float(a[0]))\n",
        "    llistaT.append(float(a[1]))\n",
        "    ```\n",
        "Una vegada fet això per a cada líquid, tindreu sis llistes, tres de les quals són els temps. Així doncs, podeu comparar el primer element de cadascuna de les llistes i veure si és menor a un $\\epsilon$ triat per vosaltres. "
      ]
    },
    {
      "metadata": {
        "id": "DmsORyJslSjd",
        "colab_type": "code",
        "colab": {}
      },
      "cell_type": "code",
      "source": [
        "#importeu els txt's i separeu-los en dues llistes cadascun, una pel temps i l'altra per la temperatura.\n",
        "\n",
        "#compareu el primer element de cada llista amb alguna relació matemàtica senzilla que us sigui d'ajuda, recordeu que l'element n-èssim d'una llista A és A[n-1].\n",
        "\n",
        "#feu un print dels temps inicials per comprovar que tot va bé"
      ],
      "execution_count": 0,
      "outputs": []
    },
    {
      "metadata": {
        "id": "HTqmXu5VqOGO",
        "colab_type": "text"
      },
      "cell_type": "markdown",
      "source": [
        "3- Amb la temperatura ambient heu d'obtenir el conjunt de punts $ln(T − Ta)$, podeu escriure'ls en una altra llista, un bloc de notes extern o damunt dels valors de T que ja teniu.\n",
        "Penseu que seria més òptim en cas de tenir un conjunt de dades molt més gran que aquestes i opereu segons aquesta condició. També seria convenient que féssiu les tres maneres i deixéssiu\n",
        "comentades les menys optimes.\n",
        "\n",
        "Busqueu el llenguatge apropat per utilitzar el logaritme neperià amb algun dels paquets que heu importat."
      ]
    },
    {
      "metadata": {
        "id": "F4UWR27urRp9",
        "colab_type": "code",
        "colab": {}
      },
      "cell_type": "code",
      "source": [
        "#una de les opcions seria crear una llista buida com a l'apartat 2 de la pràctica, i utilitzar un loop adequat perquè cada element de la llista de les T formi l'element corresponent de la lliosta dels logaritmes. "
      ],
      "execution_count": 0,
      "outputs": []
    },
    {
      "metadata": {
        "id": "4TozB48Fsqx1",
        "colab_type": "text"
      },
      "cell_type": "markdown",
      "source": [
        "4- Amb els logaritmes i els temps podeu construir les rectes de pendent -h per cada líquid. Per obtenir el pendent es pot fer una regressió lineal, cosa que Python et fa de manera automàtica si saps demanar-li. En el nostre cas el que farem serà obtenir el pendent dels punts de dos en dos i fer la mitjana i la desviació estandard. En el cas del xilè és possible que us surti una desviació força gran, no us espanteu.\n",
        "\n",
        "Penseu quin loop és útil per a trobar el pendent de cada punt amb el seu consecutiu. Després penseu-ne algún per trobar la mitjana de tots els pendents. Per a la desviació estàndard, podeu buscar si existeix alguna funció dels paquets que heu important que us sigui d'ajuda.\n"
      ]
    },
    {
      "metadata": {
        "id": "Q6WcWacKwAgP",
        "colab_type": "code",
        "colab": {}
      },
      "cell_type": "code",
      "source": [
        "#loop per aconseguir una llista de pendents\n",
        "\n",
        "\n",
        "#loop per a trobar la mitjana dels pendents\n",
        "\n",
        "\n",
        "#desviació estàndard de la mitjana\n",
        "\n",
        "#feu un print d'aquests valors"
      ],
      "execution_count": 0,
      "outputs": []
    },
    {
      "metadata": {
        "id": "b1XafBqxwXWC",
        "colab_type": "text"
      },
      "cell_type": "markdown",
      "source": [
        "5- Un cop obtingut el pendent de les corbes de l'aigua i el xilè, i tenint el paràmetre $\\lambda$ com una constant pels diferents líquids, obtingueu l'equivalent en aigua del calorímetre i el coeficient de pèrdues lateral ($\\lambda A$).\n",
        "\n",
        "Es tracta d'un sistema d'equacions senzill, que podeu reoldre analíticament per trobar una expressió explícita de $K$ i  $\\lambda A$ i calcular el seu valor numèric amb el programa."
      ]
    },
    {
      "metadata": {
        "id": "TKBD6rF3z4Bg",
        "colab_type": "code",
        "colab": {}
      },
      "cell_type": "code",
      "source": [
        "#escriviu les expressions explícites de l'equivalen en aigua del calorímetre i del coeficient de pèrdues laterals\n",
        "\n",
        "\n",
        "#feu un print d'aquests valors"
      ],
      "execution_count": 0,
      "outputs": []
    },
    {
      "metadata": {
        "id": "YBGFx3oS04BW",
        "colab_type": "text"
      },
      "cell_type": "markdown",
      "source": [
        "6- Per últim obtingueu la calor especíca del líquid prova a partir dels paràmetres calculats i els que us donem. Podríeu dir de quin líquid es tracta comparant el valor obtingut amb els valors de calors específiques de la següent taula? Òbviament això programant-ho i assumint un error del 10% en les dades obtingudes. Si amb aquest error no obteniu cap semblança, aneu fent-lo major fins a obtenir\n",
        "un líquid que podria ser i comenteu al codi fins a quin error s'ha arribat i quin és aquest líquid. Si obteniu més d'una substància dins l'interval, feu-lo petit fins que només n'hi hagui un.\n",
        "\n",
        "Material: Calor específica(J/kg·K)\n",
        "* Aigua: 4180\n",
        "* Gel: 1830\n",
        "* Glicerina: 2420\n",
        "* Mercuri: 120\n",
        "* Freó 12: 934\n",
        "* Benzè: 1738\n",
        "* Etanol: 2470\n",
        "* Amoníac: 4798\n",
        "* Oli de motor: 1880\n",
        "* Vidre: 800\n",
        "* Ferro: 450\n",
        "* Plom: 129\n",
        "* Coure: 383\n",
        "* Aire: 1012\n",
        "* Oxigen: 902\n",
        "* Vapor d'aigua: 2060\n",
        "* Alumini: 894\n",
        "* Plata: 234\n",
        "\n",
        "\n"
      ]
    },
    {
      "metadata": {
        "id": "3S-7jdv32AoX",
        "colab_type": "code",
        "colab": {}
      },
      "cell_type": "code",
      "source": [
        "#de nou, es pot trobar una expressió explícita per a la calor específica\n",
        "\n",
        "\n",
        "#feu un print de la calor específica\n",
        "\n",
        "\n",
        "#creeu un array que inclogui els noms dels líquids i la seva calor específica\n",
        "\n",
        "\n",
        "#feu un loop adequat que compari el valor de la calor específica de cada líquid amb la que heu trobat i miri si es troba dins el marge d'error, si es troba dins, que faci print de quina substància és."
      ],
      "execution_count": 0,
      "outputs": []
    },
    {
      "metadata": {
        "id": "EigQCBvW5MKs",
        "colab_type": "text"
      },
      "cell_type": "markdown",
      "source": [
        "7- Finalment, com a opcional, podríeu intentar obtenir les incerteses de cada magnitud. Més endavant se us presentaran alguns paquets de Python, els quals et permeten fer derivades, i com a complement\n",
        "del curs podeu buscar què és la funció lambda. Amb aquests dos conceptes obtenir les incerteses us serà força fàcil. També com a complement del curs podeu buscar com demanar a Python que et\n",
        "tregui regressions lineals i refer l'apartat 4 amb codis més simplificats i òptims.\n",
        "\n",
        "Per acabar, animar-vos a participar en certs esdeveniments/concursos, com els Hackathon, Mathematical Competitive Game, UPhysicsC, COMAP, etc. en els quals podeu aprendre a programar d'una manera una mica diferent de la que veureu a la carrera i us serà molt útil per consolidar tot el que aneu aprenent d'una manera molt divertida."
      ]
    },
    {
      "metadata": {
        "id": "nlpft4WnaeSQ",
        "colab_type": "code",
        "colab": {}
      },
      "cell_type": "code",
      "source": [
        "#Línies de codi opcionals per trobar incerteses"
      ],
      "execution_count": 0,
      "outputs": []
    }
  ]
}