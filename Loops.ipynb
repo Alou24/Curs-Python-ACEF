{
 "cells": [
  {
   "cell_type": "markdown",
   "metadata": {},
   "source": [
    "## Loops\n",
    "\n",
    "Els loops són una de les eines que més utilitzarem quan hem de programar. Un **loop** el que fa és iterar (repetir) un procés diverses vegades, tot i canviant el valor d'una o vàries variables. \n",
    "Aquests poden ser de dos tipus: **for** i **while**.\n",
    "\n"
   ]
  },
  {
   "cell_type": "markdown",
   "metadata": {},
   "source": [
    "#### for \n",
    "\n",
    "El loop **for** el que fa és iterar una variable sobre una seqüència (un array). Per exemple,"
   ]
  },
  {
   "cell_type": "code",
   "execution_count": 1,
   "metadata": {},
   "outputs": [
    {
     "name": "stdout",
     "output_type": "stream",
     "text": [
      "0\n",
      "4\n",
      "5\n",
      "2\n",
      "4\n"
     ]
    }
   ],
   "source": [
    "for i in [0,4,5,2,4]:\n",
    "    print(i)"
   ]
  },
  {
   "cell_type": "markdown",
   "metadata": {},
   "source": [
    "Veiem que el programa anterior és anàleg al següent"
   ]
  },
  {
   "cell_type": "code",
   "execution_count": 2,
   "metadata": {},
   "outputs": [
    {
     "name": "stdout",
     "output_type": "stream",
     "text": [
      "0\n",
      "4\n",
      "5\n",
      "2\n",
      "4\n"
     ]
    }
   ],
   "source": [
    "for variable in [0,4,5,2,4]:\n",
    "    print(variable)"
   ]
  },
  {
   "cell_type": "markdown",
   "metadata": {},
   "source": [
    "Ens serà molt útil utilitzar el comand **range(N)**, que el que fa és crear un array des de 0 fins a N, sense incloure N"
   ]
  },
  {
   "cell_type": "code",
   "execution_count": 3,
   "metadata": {},
   "outputs": [
    {
     "name": "stdout",
     "output_type": "stream",
     "text": [
      "0\n",
      "1\n",
      "2\n",
      "3\n",
      "4\n",
      "5\n",
      "6\n"
     ]
    }
   ],
   "source": [
    "for i in range(7):\n",
    "    print(i)"
   ]
  },
  {
   "cell_type": "markdown",
   "metadata": {},
   "source": [
    "Podem fer que **range()** comenci a un número diferent de 0, per exemple"
   ]
  },
  {
   "cell_type": "code",
   "execution_count": 4,
   "metadata": {},
   "outputs": [
    {
     "name": "stdout",
     "output_type": "stream",
     "text": [
      "5\n",
      "6\n",
      "7\n"
     ]
    }
   ],
   "source": [
    "for i in range(5,8):\n",
    "    print(i)"
   ]
  },
  {
   "cell_type": "markdown",
   "metadata": {},
   "source": [
    "Podem operar dins els loops for. Per exemple, podem fer que se'ns torni la suma dels N primers números consecutius"
   ]
  },
  {
   "cell_type": "code",
   "execution_count": 5,
   "metadata": {},
   "outputs": [
    {
     "name": "stdout",
     "output_type": "stream",
     "text": [
      "0\n",
      "1\n",
      "3\n",
      "6\n",
      "10\n",
      "15\n",
      "21\n",
      "28\n",
      "Aquest és el resultat final: \n",
      "28\n"
     ]
    }
   ],
   "source": [
    "a = 0\n",
    "\n",
    "for i in range(8):\n",
    "    a = a + i\n",
    "    print(a)\n",
    "    \n",
    "print(\"Aquest és el resultat final: \")\n",
    "\n",
    "print(a)"
   ]
  },
  {
   "cell_type": "markdown",
   "metadata": {},
   "source": [
    "Altre *loop* és el while. Aquest operarà fins que no es compleixi la condició que imposem. Per exemple,"
   ]
  },
  {
   "cell_type": "code",
   "execution_count": 6,
   "metadata": {},
   "outputs": [
    {
     "name": "stdout",
     "output_type": "stream",
     "text": [
      "1\n",
      "2\n",
      "3\n",
      "4\n",
      "5\n",
      "6\n",
      "7\n",
      "8\n",
      "9\n",
      "10\n"
     ]
    }
   ],
   "source": [
    "i = 0\n",
    "\n",
    "while i < 10:\n",
    "    i = i+1\n",
    "    print(i)"
   ]
  },
  {
   "cell_type": "markdown",
   "metadata": {},
   "source": [
    "**Exercici: Definir l'operació factorial per a qualsevol nombre enter (utilitzar la definició de funcions) amb un for, i també amb un while**"
   ]
  },
  {
   "cell_type": "markdown",
   "metadata": {},
   "source": [
    "Comencem per fer-ho amb un loop del tipus for:"
   ]
  },
  {
   "cell_type": "code",
   "execution_count": 7,
   "metadata": {},
   "outputs": [
    {
     "name": "stdout",
     "output_type": "stream",
     "text": [
      "2\n",
      "5040\n",
      "1600678593910618059713505243096489560617538954620341468344937824247568056058048926633716944224766779524002272653157354506093827342375238411217221898585887762294152744826072716877438565700645351725259166561005204991922293818212989199082726388728028121083208317583405164658905846850634093734703955304067827720451029643165696235089013196583630122567730478428118449954920549689559959484457129102618917215466583189444989581468575225499274360303261079281620761256352688656175225526088675593437456230517199204128952155119614855992927928537931589781743797397651623542396214919347739461728925483815236666781615519895821845477511250889764106119829024752449775586508981518221923004889511795894175986927688490535557670080115453418914424761775518131647677528666682718375676502384567679617808225238523913726119666258433595032284692696167695186072060397292512866610912168523768469986272604621880745067599236169728000000000000000000000000000000000000000000000000000000000000000000000000000000000000000000000000000000000000000\n"
     ]
    }
   ],
   "source": [
    "def factorial(N):\n",
    "    \n",
    "    a = 1  #Inicialitzem la variable a 1, ja que el factorial és N*(N-1)* ... * 1\n",
    "    \n",
    "    for i in range(1, N+1): #Compte, el rang és de 1 a N+2, ja que no s'inclou N+1!!!\n",
    "        \n",
    "        a = a*i\n",
    "        \n",
    "    return a\n",
    "\n",
    "print(factorial(2))\n",
    "\n",
    "print(factorial(7))\n",
    "\n",
    "print(factorial(453))\n",
    "        "
   ]
  },
  {
   "cell_type": "markdown",
   "metadata": {},
   "source": [
    "Ara amb un del tipus while:"
   ]
  },
  {
   "cell_type": "code",
   "execution_count": 8,
   "metadata": {},
   "outputs": [
    {
     "name": "stdout",
     "output_type": "stream",
     "text": [
      "2\n",
      "5040\n",
      "1600678593910618059713505243096489560617538954620341468344937824247568056058048926633716944224766779524002272653157354506093827342375238411217221898585887762294152744826072716877438565700645351725259166561005204991922293818212989199082726388728028121083208317583405164658905846850634093734703955304067827720451029643165696235089013196583630122567730478428118449954920549689559959484457129102618917215466583189444989581468575225499274360303261079281620761256352688656175225526088675593437456230517199204128952155119614855992927928537931589781743797397651623542396214919347739461728925483815236666781615519895821845477511250889764106119829024752449775586508981518221923004889511795894175986927688490535557670080115453418914424761775518131647677528666682718375676502384567679617808225238523913726119666258433595032284692696167695186072060397292512866610912168523768469986272604621880745067599236169728000000000000000000000000000000000000000000000000000000000000000000000000000000000000000000000000000000000000000\n"
     ]
    }
   ],
   "source": [
    "def factorialwhile(N):\n",
    "    \n",
    "    a = 1\n",
    "    \n",
    "    i = N\n",
    "    \n",
    "    while i>1:\n",
    "        \n",
    "        a = a*i\n",
    "        \n",
    "        i = i-1\n",
    "        \n",
    "    return a\n",
    "\n",
    "print(factorial(2))\n",
    "\n",
    "print(factorial(7))\n",
    "\n",
    "print(factorial(453))"
   ]
  }
 ],
 "metadata": {
  "kernelspec": {
   "display_name": "Python 3",
   "language": "python",
   "name": "python3"
  },
  "language_info": {
   "codemirror_mode": {
    "name": "ipython",
    "version": 3
   },
   "file_extension": ".py",
   "mimetype": "text/x-python",
   "name": "python",
   "nbconvert_exporter": "python",
   "pygments_lexer": "ipython3",
   "version": "3.6.5"
  }
 },
 "nbformat": 4,
 "nbformat_minor": 2
}
