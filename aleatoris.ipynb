{
 "cells": [
  {
   "cell_type": "markdown",
   "metadata": {},
   "source": [
    "## Generació de nombres aleatoris\n",
    "\n",
    "Ens és molt útil per a la implantació de mètodes numèrics l'ús de variables aleatòries. Per fer-ho, utilitzem el paquet random."
   ]
  },
  {
   "cell_type": "code",
   "execution_count": 1,
   "metadata": {},
   "outputs": [],
   "source": [
    "import random"
   ]
  },
  {
   "cell_type": "markdown",
   "metadata": {},
   "source": [
    "Un cop importada aquesta biblioteca podem usar bàsicament dos comands essencials: **random.uniform()** i **random.randint()** . El primer ens genera aleatòriament floats, i el segon int. "
   ]
  },
  {
   "cell_type": "markdown",
   "metadata": {},
   "source": [
    "Hem de dir en quin interval volem els aleatoris. Així,"
   ]
  },
  {
   "cell_type": "code",
   "execution_count": 2,
   "metadata": {},
   "outputs": [
    {
     "name": "stdout",
     "output_type": "stream",
     "text": [
      "0.9292487210692668\n",
      "0.17097725988832024\n",
      "0.2505611740326862\n",
      "0.9801393256727965\n",
      "0\n",
      "1\n",
      "0\n",
      "1\n"
     ]
    }
   ],
   "source": [
    "print(random.uniform(0,1))\n",
    "print(random.uniform(0,1))\n",
    "print(random.uniform(0,1))\n",
    "print(random.uniform(0,1))\n",
    "\n",
    "print(random.randint(0,1))\n",
    "print(random.randint(0,1))\n",
    "print(random.randint(0,1))\n",
    "print(random.randint(0,1))"
   ]
  },
  {
   "cell_type": "markdown",
   "metadata": {},
   "source": [
    "Podem, d'altra manera, importar directament aquests comands, el que ens resultarà en un codi més amable"
   ]
  },
  {
   "cell_type": "code",
   "execution_count": 3,
   "metadata": {},
   "outputs": [
    {
     "name": "stdout",
     "output_type": "stream",
     "text": [
      "0.9565518247020671\n",
      "4.184084099550759\n",
      "0.10502084210902984\n",
      "2.0031685623937525\n",
      "2\n",
      "4\n",
      "1\n",
      "5\n"
     ]
    }
   ],
   "source": [
    "from random import randint\n",
    "\n",
    "from random import uniform\n",
    "\n",
    "\n",
    "print(uniform(0,5))\n",
    "print(uniform(0,5))\n",
    "print(uniform(0,5))\n",
    "print(uniform(0,5))\n",
    "\n",
    "print(randint(0,5))\n",
    "print(randint(0,5))\n",
    "print(randint(0,5))\n",
    "print(randint(0,5))"
   ]
  }
 ],
 "metadata": {
  "kernelspec": {
   "display_name": "Python 3",
   "language": "python",
   "name": "python3"
  },
  "language_info": {
   "codemirror_mode": {
    "name": "ipython",
    "version": 3
   },
   "file_extension": ".py",
   "mimetype": "text/x-python",
   "name": "python",
   "nbconvert_exporter": "python",
   "pygments_lexer": "ipython3",
   "version": "3.6.5"
  }
 },
 "nbformat": 4,
 "nbformat_minor": 2
}
