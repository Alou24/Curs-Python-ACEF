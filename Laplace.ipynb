{
  "nbformat": 4,
  "nbformat_minor": 0,
  "metadata": {
    "colab": {
      "name": "Laplace.ipynb",
      "version": "0.3.2",
      "provenance": [],
      "include_colab_link": true
    },
    "kernelspec": {
      "name": "python3",
      "display_name": "Python 3"
    }
  },
  "cells": [
    {
      "cell_type": "markdown",
      "metadata": {
        "id": "view-in-github",
        "colab_type": "text"
      },
      "source": [
        "<a href=\"https://colab.research.google.com/github/CursPythonUAB/Curs-Python-ACEF/blob/master/Laplace.ipynb\" target=\"_parent\"><img src=\"https://colab.research.google.com/assets/colab-badge.svg\" alt=\"Open In Colab\"/></a>"
      ]
    },
    {
      "metadata": {
        "id": "s8Wr4oPZDOrU",
        "colab_type": "text"
      },
      "cell_type": "markdown",
      "source": [
        "***Laplace***"
      ]
    },
    {
      "metadata": {
        "id": "q84SY6fpns0C",
        "colab_type": "text"
      },
      "cell_type": "markdown",
      "source": [
        "L'objectiu d'aquesta pràctica serà solucionar l'equació de Laplace per trobar el potencial elèctric en 2D $\\Phi (x,y)$ donada una certa condició de contorn. Restringirem el nostre domini a $x,y\\in [0,1]$ (és a dir, un quadrat) i la condició de contorn que tindrem és que el potencial valgui 10 V en un mini-quadrat de tamany $0.2$ x $0.2 $ al centre del nostre domini. Resumint, s'ha de solucionar $$\\nabla^2\\Phi(x,y)=0 \\quad \\forall x,y \\in [0,1]$$ Amb la condició de contorn $$\\Phi(x,y) = 10 V  \\quad si\\quad 0.4\\leq x,y\\leq 0.6$$ \n",
        "\n",
        "\n",
        "\n",
        "\n"
      ]
    },
    {
      "metadata": {
        "id": "DTCiLCMFrnAc",
        "colab_type": "text"
      },
      "cell_type": "markdown",
      "source": [
        "No us espanteu que us guiarem molt. Potser un spoiler del resultat final us ajuda a entendre el problema. \n"
      ]
    },
    {
      "metadata": {
        "id": "xk3eDj_g56yD",
        "colab_type": "code",
        "colab": {}
      },
      "cell_type": "code",
      "source": [
        "from google.colab import files #Ignoreu aixo, es per penjarvos la foto\n",
        "from IPython.display import Image #Aixo igual\n"
      ],
      "execution_count": 0,
      "outputs": []
    },
    {
      "metadata": {
        "id": "nWUxe-SN6O00",
        "colab_type": "code",
        "outputId": "53f6a903-d8f0-4ffa-a130-c8fa058769f5",
        "colab": {
          "resources": {
            "http://localhost:8080/nbextensions/google.colab/files.js": {
              "data": "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",
              "ok": true,
              "headers": [
                [
                  "content-type",
                  "application/javascript"
                ]
              ],
              "status": 200,
              "status_text": ""
            }
          },
          "base_uri": "https://localhost:8080/",
          "height": 40
        }
      },
      "cell_type": "code",
      "source": [
        "uploaded=files.upload()"
      ],
      "execution_count": 0,
      "outputs": [
        {
          "output_type": "display_data",
          "data": {
            "text/html": [
              "\n",
              "     <input type=\"file\" id=\"files-8c626cae-ceab-41f6-8827-fafd76e290a2\" name=\"files[]\" multiple disabled />\n",
              "     <output id=\"result-8c626cae-ceab-41f6-8827-fafd76e290a2\">\n",
              "      Upload widget is only available when the cell has been executed in the\n",
              "      current browser session. Please rerun this cell to enable.\n",
              "      </output>\n",
              "      <script src=\"/nbextensions/google.colab/files.js\"></script> "
            ],
            "text/plain": [
              "<IPython.core.display.HTML object>"
            ]
          },
          "metadata": {
            "tags": []
          }
        }
      ]
    },
    {
      "metadata": {
        "id": "K-VmEhNK7Nhi",
        "colab_type": "code",
        "outputId": "64e339c8-1466-4d02-d33a-a7aa03179c45",
        "colab": {
          "base_uri": "https://localhost:8080/",
          "height": 34
        }
      },
      "cell_type": "code",
      "source": [
        "Image('Solucio.png') #Si feu click aqui s'hauria de obrir la solucio del problema "
      ],
      "execution_count": 0,
      "outputs": [
        {
          "output_type": "execute_result",
          "data": {
            "image/png": "Solucio.png",
            "text/plain": [
              "<IPython.core.display.Image object>"
            ]
          },
          "metadata": {
            "tags": []
          },
          "execution_count": 3
        }
      ]
    },
    {
      "metadata": {
        "id": "ZjVxnrwFsp1w",
        "colab_type": "text"
      },
      "cell_type": "markdown",
      "source": [
        "Resoldre això analíticament pot ser un coñazo (i ves a saber si es pot fer) per tant com era d'esperar ho farem amb Python. Ens estalviarem teoria que ara no necessiteu però doneu fè que el que es detalla a continuació soluciona l'equació de Laplace."
      ]
    },
    {
      "metadata": {
        "id": "lpb7hOmrR8lQ",
        "colab_type": "text"
      },
      "cell_type": "markdown",
      "source": [
        "\n",
        "\n",
        "1.   El primer que es fa en un problema numèric, és discretitzar l'espai. \"Tallarem\" el nostre domini de les $x$ en 100 trossos, i el mateix amb les $y$. Per tant, ara la nostra funció $\\Phi(x,y)$ es pot entendre com una matriu $100$x$100$, on en cada punt de l'espai (element de la matriu) prèn un valor concret. Evidentment, fer més particions estaria bé, però augmentaria el temps de càlcul. El primer que hem de fer és crear una matriu de tamany $100$x$100$ plena de 0's, a la cual direm A. Espero que ja us hagin dit que Numpy és la millor opcio per fer aquestes coses. Consell personal: tingueu un paper a mà i dibuixeu-vos la matriu per tenir clar què esteu fent.\n",
        "\n",
        "\n"
      ]
    },
    {
      "metadata": {
        "id": "ESNVgHwnSGsA",
        "colab_type": "code",
        "colab": {}
      },
      "cell_type": "code",
      "source": [
        "#Aqui sota creeu la vostra matriu\n"
      ],
      "execution_count": 0,
      "outputs": []
    },
    {
      "metadata": {
        "id": "FxOcTmN1SQng",
        "colab_type": "text"
      },
      "cell_type": "markdown",
      "source": [
        "\n",
        "\n",
        "2.   Un cop creada aquesta matriu, recordeu que heu de imposar la condició de contorn, és a dir, heu de donar un valor de 10 a totes les caselles de la matriu corresponents al quadrat central de $0.2$x$0.2$. Recordeu que hem discretitzat el domini en 100 parts per cada eix, per tant penseu exactament a quins elements de la matriu heu de assignar un valor de 10. Amb dos bucles i un condicional en teniu suficient per fer això.\n",
        "\n"
      ]
    },
    {
      "metadata": {
        "id": "peOhsXIhSc-F",
        "colab_type": "code",
        "colab": {}
      },
      "cell_type": "code",
      "source": [
        "#Aqui sota imposeu la condicio de contorn al quadrat central\n"
      ],
      "execution_count": 0,
      "outputs": []
    },
    {
      "metadata": {
        "id": "HU0RuQP4S380",
        "colab_type": "text"
      },
      "cell_type": "markdown",
      "source": [
        "\n",
        "\n",
        "3. Un cop tingueu aquesta matriu amb 0's i 10's (recordeu que podeu comprobar molt fàcilment fent print's si ho teniu bé), la idea es crear un loop on en cada pas es realitzin 3 accions:\n",
        "\n",
        "\n",
        "\n",
        "*   Crear una copia de la matriu A. Podeu dirli Acopia, per exemple.\n",
        "\n",
        "\n",
        "\n",
        "\n"
      ]
    },
    {
      "metadata": {
        "id": "Aid70-huTJqF",
        "colab_type": "code",
        "colab": {}
      },
      "cell_type": "code",
      "source": [
        "#Aqui creeu la copia de la matriu\n",
        "\n"
      ],
      "execution_count": 0,
      "outputs": []
    },
    {
      "metadata": {
        "id": "UAy3kDGDTVeh",
        "colab_type": "text"
      },
      "cell_type": "markdown",
      "source": [
        "\n",
        "\n",
        "*   Ara modificarem la matriu A. A cada element li assignem el valor de la mitjana dels seus veïns. Si a l'element de la fila $i$ i columna $j$ li diem $A_{i,j}$, llavors la operació a realitzar és: $$A_{i,j}=\\frac{Acopia_{i+1,j}+Acopia_{i-1,j}+Acopia_{i,j+1}+Acopia_{i,j-1}}{4}$$ Però cuidado!! Recordeu que els elements del mig tenen un valor fix de $10$ V !! Per tant aquests elements no els podeu canviar per les mitjanes dels seus veins, això ho podeu solucionar fàcilment amb un condicional, o de manera més llarga, amb uns for's. A més a més, adoneu-vos que els elements  que estan als \"bordes\" de la matriu no tenen 4 veins. Això també ho podeu solucionar amb bucles, però hi ha una manera més intel·ligent. No creieu que us pot ser util definir una funció que us faci aquestes coses que estem fent?\n",
        "*  Un cop acabades aquestes operacions, calcularem la diferència entre la nova matriu A i Acopia (en valor absolut) i agafarem el valor màxim d'aquesta diferència com a error. Mentres (while, en anglès ;) ) l'error sigui més gran que 0.001 seguirem fent aquest loop, a la que l'error sigui més petit o igual que 0.001 donarem el programa per acabat. La matriu A que tindrem serà el resultat.\n",
        "\n",
        "\n",
        "\n"
      ]
    },
    {
      "metadata": {
        "id": "34MgAljNT8sA",
        "colab_type": "code",
        "colab": {}
      },
      "cell_type": "code",
      "source": [
        "#Aqui sota feu els dos punts anterior\n",
        "\n"
      ],
      "execution_count": 0,
      "outputs": []
    },
    {
      "metadata": {
        "id": "bO_YQ5ETSOvZ",
        "colab_type": "text"
      },
      "cell_type": "markdown",
      "source": [
        "Us pot semblar raro aquest procediment, però si mireu els videos que estan enllaçats al final d'aquest document, veureu que el que es fa és \"escampar\" la condició de contorn del centre de manera que es compleixi l'equació de Laplace. Això és diu fer servir un mètode de relaxació.\n",
        "\n",
        "Ara ve una part molt important, com sabeu que ho heu fet bé i no la heu liada? Hem de visualitzar el resultat."
      ]
    },
    {
      "metadata": {
        "id": "tOPUrWOEnnoc",
        "colab_type": "text"
      },
      "cell_type": "markdown",
      "source": [
        "El nostre resultat és una funció de dues variables que tenim guardada en una matriu, per tant com era d'esperar farem un plot de superfície i un Imshow (un Imshow resulta molt útil per visualitzar matrius) utilitzant Matplotlib. Per estalviar-vos temps de buscar per internet, aqui teniu el que heu de importar:\n"
      ]
    },
    {
      "metadata": {
        "id": "z8sgdM4yoPsb",
        "colab_type": "code",
        "colab": {}
      },
      "cell_type": "code",
      "source": [
        "import matplotlib.pyplot as plt\n",
        "from mpl_toolkits.mplot3d import Axes3D"
      ],
      "execution_count": 0,
      "outputs": []
    },
    {
      "metadata": {
        "id": "wB3Mf3_So3jz",
        "colab_type": "text"
      },
      "cell_type": "markdown",
      "source": [
        "Ara, genereu el domini $x,y\\in[0,1]$, que recordeu que està discretitzat en 100 trossos. Per tant, volem que les $x$ i les $y$ vagin de $0$ a $1$ amb la restricció de tenir 100 trossos. Fareu un np.linspace o un np.arange? Recordeu que teniu la restricció d'incloure el 0 i l'1 i tenir 100 trossos. Podeu fer \"checks\", com fer un print de quants trossos teniu o de l'ultim element per comprobar que es un 1. Ara, teniu les $x,y$ com vectors 1D, però ens fa falta que siguin \"grids\". Això es fa fent X,Y=np.meshgrid(X,Y)"
      ]
    },
    {
      "metadata": {
        "id": "mVq8LrI7rOBj",
        "colab_type": "code",
        "colab": {}
      },
      "cell_type": "code",
      "source": [
        "#Copieu lo del meshgrid"
      ],
      "execution_count": 0,
      "outputs": []
    },
    {
      "metadata": {
        "id": "oeleK7bWsWGd",
        "colab_type": "text"
      },
      "cell_type": "markdown",
      "source": [
        "La documentació de Matplotlib està molt bé, qualsevol cosa que us faci falta ho podeu buscar allà, i a més a més hi ha molts exemples. Heu de fer un surface plot (aqui el podeu trobar https://matplotlib.org/mpl_toolkits/mplot3d/tutorial.html) i un Imshow (https://matplotlib.org/api/_as_gen/matplotlib.axes.Axes.imshow.html). Altres opcions de plots guays que us poden interessar de matplotlib però que en aquesta pràctica no farem són els quiver (plots vectorials amb fletxes, https://matplotlib.org/api/_as_gen/matplotlib.axes.Axes.quiver.html) i les animacions (veure més avall)"
      ]
    },
    {
      "metadata": {
        "id": "EcqY55fKZuw7",
        "colab_type": "code",
        "colab": {}
      },
      "cell_type": "code",
      "source": [
        "#Aqui haurieu de fer els vostres plots\n",
        "\n"
      ],
      "execution_count": 0,
      "outputs": []
    },
    {
      "metadata": {
        "id": "WMagjFB0s0Bq",
        "colab_type": "text"
      },
      "cell_type": "markdown",
      "source": [
        "\"cmap\" és el color, podeu buscar a google varios cmap i anar-los provant, és guay."
      ]
    },
    {
      "metadata": {
        "id": "I_S-ERLF0FgM",
        "colab_type": "text"
      },
      "cell_type": "markdown",
      "source": [
        "Per acabar, i de nivell una mica més avançat (tot i que és fàcil), podeu intentar fer un video de la evolució dels dos gràfics que hem fet anteriorment a cada iteració. La idea de això és senzilla, es basa en fer el plot de la matriu inicial, fer un pas del loop, tornar a fer el plot de la matriu i anar fent aixi successivament.  Això es pot fer amb Matplotlib Animation (https://matplotlib.org/api/animation_api.html). Us aconsello que començeu mirant-vos els exemples que estan a https://matplotlib.org/examples/animation/index.html i intenteu fer primer coses més simples en 2D que no pas començar fent coses en 3D. BTW, també us haurieu de baixar una cosa que es diu ffmpeg, i no sé com fareu aquesta practica, per tant proveu-ho a casa vostra, desde l'Anaconda funciona.\n",
        "\n",
        "El plot de superfície us hauria de quedar aixi: https://www.youtube.com/watch?v=Gjl29M1aEX8\n",
        "I l'Imshow així: https://www.youtube.com/watch?v=sbTp6JlW_tM\n",
        "Veure els videos us pot ajudar a entendre què és el que feiem en el loop, i perquè es soluciona així l'equació de Laplace.\n",
        "\n",
        "Si intenteu fer això i no us surt podeu contactar amb mi."
      ]
    }
  ]
}