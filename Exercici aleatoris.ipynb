{
 "cells": [
  {
   "cell_type": "markdown",
   "metadata": {},
   "source": [
    "El codi següent permet obtenir una aproximació del valor de pi, i en fa un gràfic"
   ]
  },
  {
   "cell_type": "code",
   "execution_count": 1,
   "metadata": {},
   "outputs": [
    {
     "name": "stdout",
     "output_type": "stream",
     "text": [
      "3.1264\n"
     ]
    },
    {
     "data": {
      "text/plain": [
       "<Figure size 640x480 with 1 Axes>"
      ]
     },
     "metadata": {},
     "output_type": "display_data"
    }
   ],
   "source": [
    "from random import uniform\n",
    "\n",
    "N = 100000\n",
    "\n",
    "x = []\n",
    "\n",
    "y = []\n",
    "\n",
    "color = [\"r\" for i in range(N)]\n",
    "\n",
    "contador = 0\n",
    "\n",
    "for i in range(N):\n",
    "    \n",
    "    a = uniform(0,1)\n",
    "    \n",
    "    b = uniform(0,1)\n",
    "    \n",
    "    x.append(a)\n",
    "    y.append(b)\n",
    "    \n",
    "    if (a**2 + b**2) <= 1:\n",
    "        \n",
    "        contador = contador + 1\n",
    "        \n",
    "        color[i] = \"g\"\n",
    "        \n",
    "print(contador*4/N)\n",
    "\n",
    "\n",
    "import matplotlib.pyplot as plt\n",
    "\n",
    "plt.scatter(x, y, c = color, s=1)\n",
    "\n",
    "plt.show()\n",
    "    "
   ]
  },
  {
   "cell_type": "code",
   "execution_count": null,
   "metadata": {},
   "outputs": [],
   "source": []
  },
  {
   "cell_type": "code",
   "execution_count": null,
   "metadata": {},
   "outputs": [],
   "source": []
  }
 ],
 "metadata": {
  "kernelspec": {
   "display_name": "Python 3",
   "language": "python",
   "name": "python3"
  },
  "language_info": {
   "codemirror_mode": {
    "name": "ipython",
    "version": 3
   },
   "file_extension": ".py",
   "mimetype": "text/x-python",
   "name": "python",
   "nbconvert_exporter": "python",
   "pygments_lexer": "ipython3",
   "version": "3.6.5"
  }
 },
 "nbformat": 4,
 "nbformat_minor": 2
}
