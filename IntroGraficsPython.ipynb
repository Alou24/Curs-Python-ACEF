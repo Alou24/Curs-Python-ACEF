{
 "cells": [
  {
   "cell_type": "markdown",
   "metadata": {},
   "source": [
    "# Gràfics en Python\n",
    "\n",
    "## Gràfics simples\n",
    "\n",
    "\n",
    "Els gràfics en Python ens serveixen per poder visualitzar dades directament, sense necessitat de programes externs. \n",
    "\n",
    "Per fer-los existeixen diverses possibilitats, però usarem Matplotlib. Hem d'entendre que Python és molt més potent que això de cara als entorns gràfics, però per tot el relacionat amb mètodes numèrics ens és més que suficient.\n",
    "\n",
    "\n",
    "Més concretament, utilitzarem Pyplot, que està inclós a Matplotlib. Per importar-lo ho feim amb la següent línia de codi"
   ]
  },
  {
   "cell_type": "code",
   "execution_count": null,
   "metadata": {
    "node_exists": true,
    "node_name": "093c244a58a847fd9fa97d305fccb060"
   },
   "outputs": [],
   "source": [
    "import matplotlib.pyplot as plt"
   ]
  },
  {
   "cell_type": "markdown",
   "metadata": {},
   "source": [
    "Aquesta és la manera estàndar d'importar Pyplot. Genèricament, per importar una biblioteca fem:\n",
    "\n",
    "    import (nom biblioteca gran).(nom biblioteca específica) as (nom que li volem donar)"
   ]
  },
  {
   "cell_type": "markdown",
   "metadata": {},
   "source": [
    "Els gràfics que més utilitzarem són els que s'utilitzen per representar funcions. \n",
    "Així, Pyplot unirà dos punts consecutius amb una recta.\n",
    "\n",
    "Els punts a graficar s'identifiquen de la següent forma: hem de definir dos *arrays*, un per l'eix vertical i un per l'eix horitzontal. El nombre d'elements d'aquests *arrays* han de ser equivalents, i igual al nombre de punts que volem graficar."
   ]
  },
  {
   "cell_type": "markdown",
   "metadata": {},
   "source": [
    "Definim dos arrays aribtràriament. Ho fem amb nombres enters (**int**) però bé podríem fer-ho amb racionals (**floats**). Així,"
   ]
  },
  {
   "cell_type": "code",
   "execution_count": null,
   "metadata": {
    "node_exists": true,
    "node_name": "39775d6c85c7423786f57dbd30bb647b"
   },
   "outputs": [],
   "source": [
    "Y = [3,5,1,4,6,3,2,5,6,4]\n",
    "X = [0,1,2,3,4,5,6,7,8,9]"
   ]
  },
  {
   "cell_type": "markdown",
   "metadata": {},
   "source": [
    "Veiem que X a aquest cas podria definir-se de la següent manera (potser més apropiada)"
   ]
  },
  {
   "cell_type": "code",
   "execution_count": null,
   "metadata": {
    "node_exists": true,
    "node_name": "9bc0d127edc944338cdf16a163f0292e"
   },
   "outputs": [],
   "source": [
    "X = [i for i in range(10)]\n",
    "print(X)"
   ]
  },
  {
   "cell_type": "markdown",
   "metadata": {},
   "source": [
    "Per fer un gràfic utilitzem el següent"
   ]
  },
  {
   "cell_type": "code",
   "execution_count": null,
   "metadata": {
    "node_exists": true,
    "node_name": "49707ec1ce90481ba1e6049228397a55"
   },
   "outputs": [],
   "source": [
    "plt.plot(X, Y)\n",
    "plt.show()"
   ]
  },
  {
   "cell_type": "markdown",
   "metadata": {},
   "source": [
    "Quan l'eix de les ordenades és del tipus {0,1,2,3,4, ... N} podem estalviar-nos indicar-ho. Així,"
   ]
  },
  {
   "cell_type": "code",
   "execution_count": null,
   "metadata": {
    "node_exists": true,
    "node_name": "6efaba5aebe84dde8f2d6d7ca9eb0b9e"
   },
   "outputs": [],
   "source": [
    "plt.plot(Y)\n",
    "plt.show()"
   ]
  },
  {
   "cell_type": "markdown",
   "metadata": {},
   "source": [
    "És el mateix gràfic que abans. Jo recomano, igualment, sempre indicar tant X com Y. Així tindreu, a més, control sobre el nombre de punts que esteu utilitzant al gràfic. Per exemple, si sabeu que heu d'utilizar 8 punts, podeu fer"
   ]
  },
  {
   "cell_type": "code",
   "execution_count": null,
   "metadata": {
    "node_exists": true,
    "node_name": "434a1a6169ab4c3a95393b324e141999"
   },
   "outputs": [],
   "source": [
    "X = [i for i in range(8)]"
   ]
  },
  {
   "cell_type": "code",
   "execution_count": null,
   "metadata": {
    "node_exists": true,
    "node_name": "d2cffad403b74ba99155bf70bae8f15f",
    "scrolled": true
   },
   "outputs": [],
   "source": [
    "plt.plot(X,Y)\n",
    "plt.show()"
   ]
  },
  {
   "cell_type": "markdown",
   "metadata": {},
   "source": [
    "Veiem que peta perquè Y té 10 elements, mentres X en té 8. Podem 'retallar' l'*array* Y de manera que ens quadri. Així,"
   ]
  },
  {
   "cell_type": "code",
   "execution_count": null,
   "metadata": {
    "node_exists": true,
    "node_name": "5bf769a69ff9479e8a57ff3c7183fae9"
   },
   "outputs": [],
   "source": [
    "Y = Y[0:8]\n",
    "\n",
    "plt.plot(X,Y)\n",
    "plt.show()"
   ]
  },
  {
   "cell_type": "markdown",
   "metadata": {},
   "source": [
    "Imaginem ara que tenim un conjunt més gran de punts. Per no haver de crear els arrays arbitràriament fem servir el paquet random"
   ]
  },
  {
   "cell_type": "code",
   "execution_count": null,
   "metadata": {
    "node_exists": true,
    "node_name": "21dc9da5a6cd4bb0830e963064c352e8"
   },
   "outputs": [],
   "source": [
    "\n",
    "from random import uniform  \n",
    "\n",
    "from random import randint\n",
    "\n",
    "X = []\n",
    "\n",
    "Y = []\n",
    "\n",
    "\n",
    "XX = []\n",
    "\n",
    "YY = []\n",
    "\n",
    "\n",
    "for i in range(200):\n",
    "    \n",
    "    X.append(uniform(0,10))\n",
    "    Y.append(uniform(0,10))\n",
    "    \n",
    "    XX.append(randint(0,10))\n",
    "    YY.append(randint(0,10))\n",
    "    \n",
    "\n",
    "import matplotlib.pyplot as plt\n",
    "\n",
    "\n",
    "plt.plot(X, Y)\n",
    "\n",
    "plt.plot(XX, YY)\n",
    "\n",
    "plt.show()"
   ]
  },
  {
   "cell_type": "markdown",
   "metadata": {},
   "source": [
    "Veiem que, els dos conjunts de punts (units per les seves respectives línies) es troben al mateix gràfic. \n",
    "\n",
    "Si volem canviar de color els gràfics fem el següent codi"
   ]
  },
  {
   "cell_type": "code",
   "execution_count": null,
   "metadata": {
    "node_exists": true,
    "node_name": "4149d4148ca14061a16d96a8d05ab843"
   },
   "outputs": [],
   "source": [
    "plt.plot(X, Y, \"r\")\n",
    "\n",
    "plt.plot(XX, YY, \"g\")\n",
    "\n",
    "plt.show()"
   ]
  },
  {
   "cell_type": "markdown",
   "metadata": {},
   "source": [
    "On \"r\" vol dir *red*, \"g\" vol dir *green*, ..."
   ]
  },
  {
   "cell_type": "markdown",
   "metadata": {},
   "source": []
  },
  {
   "cell_type": "markdown",
   "metadata": {},
   "source": [
    "Els dos gràfics anterior, però, no ténen sentit. Per gràficar correctament els punts anteriors s'utilitza el tipus de gràfic *scattering*, al quals els punts no s'uneixen per rectes. Els grafics *scattering* es fan similarment."
   ]
  },
  {
   "cell_type": "code",
   "execution_count": null,
   "metadata": {
    "node_exists": true,
    "node_name": "8a4c94e5410e4ccc87fbbf50169b9e5c"
   },
   "outputs": [],
   "source": [
    "plt.scatter( X, Y)\n",
    "\n",
    "plt.scatter( XX, YY)\n",
    "\n",
    "plt.show()"
   ]
  },
  {
   "cell_type": "markdown",
   "metadata": {},
   "source": [
    "Per fer gràfics més avançats, podem utilitzar més paràmetres. \n",
    "\n",
    "En general, tenim   plt.scatter( X, Y, s = tamany, c = colors, alpha = opacitat)"
   ]
  },
  {
   "cell_type": "code",
   "execution_count": null,
   "metadata": {
    "node_exists": true,
    "node_name": "994b915b2d2d4c3c8bb24e96ce3f04ca"
   },
   "outputs": [],
   "source": [
    "plt.scatter( X, Y, s = 50, c = \"r\", alpha = 0.5 )\n",
    "\n",
    "plt.scatter( XX, YY, s = 1, c = \"b\", alpha = 1)\n",
    "\n",
    "plt.show()"
   ]
  },
  {
   "cell_type": "markdown",
   "metadata": {},
   "source": [
    "És interessant saber que tant el tamany, els colors com la opacitat son *arrays*, i com a tal poder fer que canviin a cada punt. \n",
    "\n",
    "Utilitzem això al següent codi"
   ]
  },
  {
   "cell_type": "code",
   "execution_count": null,
   "metadata": {
    "node_exists": true,
    "node_name": "f1b2e2d486c946c4876bc2ebf024f20e"
   },
   "outputs": [],
   "source": [
    "from random import uniform\n",
    "from random import randint\n",
    "from random import random\n",
    "\n",
    "Y = []\n",
    "\n",
    "\n",
    "for i in range(100):\n",
    "    Y.append(uniform(0,1))\n",
    "    \n",
    "    \n",
    "X = [i for i in range(len(Y))]  #len(Y) ens dóna el tamany de l'array Y\n",
    "    \n",
    "    \n",
    "tamany=[]\n",
    "\n",
    "color=[]\n",
    "\n",
    "transparencia=[]\n",
    "\n",
    "\n",
    "for i in range(100):\n",
    "    \n",
    "    tamany.append(randint(1, 50))\n",
    "    \n",
    "    a = randint(0,100)\n",
    "    \n",
    "    if a < 50:\n",
    "        color.append(\"r\")\n",
    "        \n",
    "    else:\n",
    "        color.append(\"b\")\n",
    "        \n",
    "    \n",
    "\n",
    "\n",
    "plt.scatter( X, Y, s = tamany, c = color)\n",
    "\n",
    "plt.show()\n",
    "    "
   ]
  },
  {
   "cell_type": "markdown",
   "metadata": {},
   "source": [
    "Podem afegir rectes horitzontals i verticals utilitzant els següents comands:"
   ]
  },
  {
   "cell_type": "code",
   "execution_count": null,
   "metadata": {},
   "outputs": [],
   "source": [
    "plt.scatter( X, Y )\n",
    "\n",
    "plt.axvline(x=50)\n",
    "plt.axhline(y=0.5)\n",
    "\n",
    "plt.show()"
   ]
  },
  {
   "cell_type": "markdown",
   "metadata": {},
   "source": [
    "## Histogrames\n",
    "\n",
    "Un altre tipus de gràfic que utilitzarem bastant són els histogrames. Aquests fan una representació de la distribució de cada *array* . Per exemple,"
   ]
  },
  {
   "cell_type": "code",
   "execution_count": null,
   "metadata": {},
   "outputs": [],
   "source": [
    "from random import uniform\n",
    "\n",
    "import numpy as np\n",
    "\n",
    "\n",
    "R = [uniform(0,1) for i in range(500)]\n",
    "\n",
    "PHI = [uniform(0, 2*np.pi) for i in range(500)]\n",
    "\n",
    "\n",
    "X=[]\n",
    "\n",
    "Y=[]\n",
    "\n",
    "for i in range(500):\n",
    "    X.append(R[i]*np.cos(PHI[i]))\n",
    "    Y.append(R[i]*np.sin(PHI[i]))\n",
    "    \n",
    "plt.hist(X)\n",
    "\n",
    "plt.show()\n"
   ]
  },
  {
   "cell_type": "markdown",
   "metadata": {},
   "source": [
    "Podem normalitzar el gràfic de manera que el que obtenim és una densitat de probabilitat"
   ]
  },
  {
   "cell_type": "code",
   "execution_count": null,
   "metadata": {},
   "outputs": [],
   "source": [
    "plt.hist(X, density=True)\n",
    "plt.show()"
   ]
  },
  {
   "cell_type": "markdown",
   "metadata": {},
   "source": [
    "I també podem triar el nombre de bins (rectangles) que ens surten"
   ]
  },
  {
   "cell_type": "code",
   "execution_count": null,
   "metadata": {},
   "outputs": [],
   "source": [
    "plt.hist(X, bins=50, density=True)\n",
    "plt.show()"
   ]
  },
  {
   "cell_type": "markdown",
   "metadata": {},
   "source": [
    "Amb l'après anteriorment, podem fer un gràfic del tipus següent"
   ]
  },
  {
   "cell_type": "code",
   "execution_count": null,
   "metadata": {},
   "outputs": [],
   "source": [
    "plt.hist(X, bins=50, density=True, alpha=0.75)\n",
    "\n",
    "plt.hist(Y, bins=50, density=True, alpha=0.5)\n",
    "\n",
    "plt.show()"
   ]
  },
  {
   "cell_type": "markdown",
   "metadata": {},
   "source": [
    "## Mapa escalar\n",
    "\n",
    "A vegades tindrem a representar un camp escalar. És a dir, un gràfic que ens representi un valor diferent per a cada posició (X, Y). Afegeixo el codi directament, ja que és anàleg al que hem fet anteriorment"
   ]
  },
  {
   "cell_type": "code",
   "execution_count": null,
   "metadata": {},
   "outputs": [],
   "source": [
    "import numpy as np\n",
    "import matplotlib.pyplot as plt\n",
    "\n",
    "X=[i-50 for i in range(100)]\n",
    "Y=[i-50 for i in range(100)]\n",
    "Z=[[0 for i in range(100)] for j in range(100)]\n",
    "\n",
    "for i in range(100):\n",
    "    for j in range(100):\n",
    "        \n",
    "        Z[i][j]=(X[i]*Y[j]*np.sin(X[i]**2 + Y[j]**2))\n",
    "\n",
    "\n",
    "\n",
    "plt.pcolormesh(Z)\n",
    "plt.show()\n",
    "\n",
    "\n",
    "plt.pcolormesh(Z, cmap=\"gray\")\n",
    "plt.colorbar()\n",
    "plt.show()\n",
    "               "
   ]
  },
  {
   "cell_type": "markdown",
   "metadata": {},
   "source": [
    "Existeixen entorns gràfics a Matplotlib més potents, que ens permeten per exemple tenir una figura amb més d'un gràfic, canviar els eixos, etc. \n",
    "\n",
    "Personalment recomano utilitzar un software de gràfics extern i més avançat (com pugui ser OriginPro) i utilitzar Python amb Matplotlib per tenir gràfics \"d'usar i tirar\" per veure si el programa funciona correctament i ens dóna els resultats desitjats."
   ]
  },
  {
   "cell_type": "markdown",
   "metadata": {},
   "source": [
    "# Exercicis\n",
    "\n",
    "**Genera aleatòriament dos arrays R, Phi (coordenades polars). Fes un gràfic de tipus scattering d'X i Y (cartesianes), amb una recta vertical i una horitzontal als valors promig dels diferents eixos. Fes que els punts amb una R intermitja siguin vermells, i els altres blaus. Fes un gràfic que mostri els dos histogrames X, Y, amb un número de bins=50.**\n",
    "\n",
    "\n",
    "\n",
    "\n",
    "\n",
    "\n",
    "\n",
    "\n",
    "\n",
    "\n",
    "\n",
    "\n",
    "\n",
    "\n",
    "\n",
    "\n",
    "\n",
    "\n",
    "\n",
    "\n",
    "\n",
    "\n",
    "\n",
    "\n",
    "La solució es mostra a continuació"
   ]
  },
  {
   "cell_type": "code",
   "execution_count": null,
   "metadata": {},
   "outputs": [],
   "source": [
    "from random import uniform\n",
    "\n",
    "import numpy as np\n",
    "\n",
    "N=400\n",
    "\n",
    "R = [uniform(0,10) for i in range(N)]\n",
    "\n",
    "PHI = [uniform(0, 2*np.pi) for i in range(N)]\n",
    "\n",
    "\n",
    "X = []\n",
    "\n",
    "Y = []\n",
    "\n",
    "promigx = 0\n",
    "promigy = 0\n",
    "\n",
    "\n",
    "for i in range(N):\n",
    "    \n",
    "    X.append(R[i]*np.cos(PHI[i]))\n",
    "    Y.append(R[i]*np.sin(PHI[i]))\n",
    "    \n",
    "    promigx = promigx + X[i]\n",
    "    promigy = promigy + Y[i]\n",
    "    \n",
    "promigx = promigx / N\n",
    "promigy = promigy / N\n",
    "\n",
    "\n",
    "colors=[\"b\" for i in range(N)]\n",
    "\n",
    "for i in range(N):\n",
    "    if R[i] > 5:\n",
    "        colors[i] = \"r\"\n",
    "    \n",
    "\n",
    "print(promigx, promigy)\n",
    "\n",
    "\n",
    "plt.scatter(X, Y, c = colors)\n",
    "\n",
    "plt.axvline(x=promigx)\n",
    "\n",
    "plt.axhline(y=promigy)\n",
    "\n",
    "plt.show()\n",
    "\n"
   ]
  },
  {
   "cell_type": "code",
   "execution_count": null,
   "metadata": {},
   "outputs": [],
   "source": [
    "N = 50\n",
    "\n",
    "\n",
    "plt.hist(X, bins=N, alpha=0.75, density=True)\n",
    "plt.hist(Y, bins=N, alpha=0.5, density=True)\n",
    "\n",
    "plt.show()\n",
    "\n"
   ]
  }
 ],
 "metadata": {
  "kernelspec": {
   "display_name": "Python 3",
   "language": "python",
   "name": "python3"
  },
  "language_info": {
   "codemirror_mode": {
    "name": "ipython",
    "version": 3
   },
   "file_extension": ".py",
   "mimetype": "text/x-python",
   "name": "python",
   "nbconvert_exporter": "python",
   "pygments_lexer": "ipython3",
   "version": "3.6.7"
  }
 },
 "nbformat": 4,
 "nbformat_minor": 2
}
